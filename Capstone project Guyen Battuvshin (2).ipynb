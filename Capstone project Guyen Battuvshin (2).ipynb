{
 "cells": [
  {
   "cell_type": "markdown",
   "metadata": {},
   "source": [
    "Guyen Battuvshin Capstone Project \n",
    "Applied Data Science Capstone by IBM/Coursera\n",
    "This project covers small game named: 1, 2 and 3\n",
    "Rules & information\n",
    "Quessing game, pick a number between 1-3 \n",
    "\n",
    "Generally, it is 1 > 2 > 3 > 1 etc."
   ]
  },
  {
   "cell_type": "code",
   "execution_count": null,
   "metadata": {},
   "outputs": [],
   "source": [
    "  from random import randint\n",
    "    #Three elements are here for example 1, 2 and 3\n",
    "    #Additional information please see above\n",
    "t=['one','two','three']\n",
    "computer=t[randint(0,2)]\n",
    "player=False\n",
    "while player==False:\n",
    "    #inputs are 1, 2 and 3\n",
    "    player=input(\"one,two,three?\")\n",
    "    if player==computer:\n",
    "        print(\"draww\")\n",
    "    elif player==\"one\":\n",
    "        if computer==\"two\":\n",
    "            print(\"Lose\",computer,\"draw\",player)\n",
    "        else:\n",
    "            print(\"Win\",player,\"bang\",computer)\n",
    "    elif player==\"two\":\n",
    "        if computer==\"three\":\n",
    "            print(\"Lose\",computer,\"cut\",player)\n",
    "        else:\n",
    "            print(\"Win\",player,\"draw\",computer)\n",
    "    elif player==\"three\":\n",
    "        if computer==\"one\":\n",
    "            print(\"Lose\",computer,\"bang\",player)\n",
    "        else:\n",
    "            print(\"Win\",player,\"cut\",computer)\n",
    "    else:\n",
    "        print(\"Repeat\")\n",
    "    player=False\n",
    "    computer=t[randint(0,2)]"
   ]
  },
  {
   "cell_type": "code",
   "execution_count": null,
   "metadata": {},
   "outputs": [],
   "source": []
  },
  {
   "cell_type": "code",
   "execution_count": null,
   "metadata": {},
   "outputs": [],
   "source": []
  }
 ],
 "metadata": {
  "kernelspec": {
   "display_name": "Python",
   "language": "python",
   "name": "conda-env-python-py"
  },
  "language_info": {
   "codemirror_mode": {
    "name": "ipython",
    "version": 3
   },
   "file_extension": ".py",
   "mimetype": "text/x-python",
   "name": "python",
   "nbconvert_exporter": "python",
   "pygments_lexer": "ipython3",
   "version": "3.6.10"
  }
 },
 "nbformat": 4,
 "nbformat_minor": 4
}
