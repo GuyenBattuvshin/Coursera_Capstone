{
 "cells": [
  {
   "cell_type": "markdown",
   "metadata": {},
   "source": [
    "Guyen Battuvshin Capstone Project \n",
    "Applied Data Science Capstone by IBM/Coursera\n",
    "This project covers small game named:Small Rock, Paper and Scissor game\n",
    "Rules: \n",
    "1.Rock wins Scissors\n",
    "2.Rock lose Paper\n",
    "3.Scissors wins Paper\n",
    "4.Scissors lose Rock\n",
    "5.Paper wins Rock\n",
    "6.Paper lose Scissors\n",
    "\n",
    "Generally, it is Rock > Scissors > Paper > Rock etc."
   ]
  },
  {
   "cell_type": "code",
   "execution_count": null,
   "metadata": {},
   "outputs": [
    {
     "name": "stdin",
     "output_type": "stream",
     "text": [
      "Rock,Paper,Scissors? Rock\n"
     ]
    },
    {
     "name": "stdout",
     "output_type": "stream",
     "text": [
      "Win Rock bang Scissors\n"
     ]
    }
   ],
   "source": [
    "  from random import randint\n",
    "    #Three elements are here for example Rock, Paper and Scissors\n",
    "    #Additional information please see above\n",
    "t=['Rock','Paper','Scissors']\n",
    "computer=t[randint(0,2)]\n",
    "player=False\n",
    "while player==False:\n",
    "    #inputs are rock, paper and scissors\n",
    "    player=input(\"Rock,Paper,Scissors?\")\n",
    "    if player==computer:\n",
    "        print(\"draww\")\n",
    "    elif player==\"Rock\":\n",
    "        if computer==\"paper\":\n",
    "            print(\"Lose\",computer,\"draw\",player)\n",
    "        else:\n",
    "            print(\"Win\",player,\"bang\",computer)\n",
    "    elif player==\"Paper\":\n",
    "        if computer==\"Scissors\":\n",
    "            print(\"Lose\",computer,\"cut\",player)\n",
    "        else:\n",
    "            print(\"Win\",player,\"draw\",computer)\n",
    "    elif player==\"Scissors\":\n",
    "        if computer==\"Rock\":\n",
    "            print(\"Lose\",computer,\"bang\",player)\n",
    "        else:\n",
    "            print(\"Win\",player,\"cut\",computer)\n",
    "    else:\n",
    "        print(\"Repeat\")\n",
    "    player=False\n",
    "    computer=t[randint(0,2)]"
   ]
  },
  {
   "cell_type": "code",
   "execution_count": null,
   "metadata": {},
   "outputs": [],
   "source": []
  }
 ],
 "metadata": {
  "kernelspec": {
   "display_name": "Python",
   "language": "python",
   "name": "conda-env-python-py"
  },
  "language_info": {
   "codemirror_mode": {
    "name": "ipython",
    "version": 3
   },
   "file_extension": ".py",
   "mimetype": "text/x-python",
   "name": "python",
   "nbconvert_exporter": "python",
   "pygments_lexer": "ipython3",
   "version": "3.6.10"
  }
 },
 "nbformat": 4,
 "nbformat_minor": 4
}
